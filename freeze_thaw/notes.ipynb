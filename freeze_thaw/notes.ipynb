{
 "cells": [
  {
   "cell_type": "markdown",
   "id": "5710d8a8",
   "metadata": {},
   "source": [
    "### 2-D Advection and Diffusion of a Passive Tracer in a Groundwater Flow Field\n",
    "#### Francis Rossmann, 40065154"
   ]
  },
  {
   "cell_type": "markdown",
   "id": "0fd40b8d",
   "metadata": {},
   "source": [
    "#### Introduction\n",
    "I am considering the numerical problem which approximates the dispersion of a passive pollutant in a groundwater flow field via diffusive and advective processes, all other processes left out of consideration. 'Passive pollutant' in this contexts refers to a pollutant which does not affect the flow field in which it is dispersed, and so interacts with the problem in a passive sense. Numerical methods to model groundwater flow are key to understanding one of our most important resources (i.e. freshwater) and provide insight into how to manage and protect vital watersheds. Numerical models can, for example, give us insight into the how changes in precipitation may affect groundwater drinking sources for communities, or how a leak or spill of contaminants will be absorbed and travel within an aquifer. The problem that I have chosen to investigate physically resembles the problem of how a passive pollutant is transported in a simple time and space invariant flow field via advective and diffusive processes.\n",
    "\n",
    "\n",
    "#### Derivation of the Problem: \n",
    "\n",
    "\n",
    "We can start from a 2-D convection-diffusion equation that includes a source term:\n",
    "\n",
    "\n",
    "$$ \\frac{\\partial T}{\\partial t}=\\kappa \\left(\\frac{\\partial^{2} T}{\\partial x^{2}}+\\frac{\\partial^{2} T}{\\partial y^{2}}\\right) + Q(x,y,t) $$  \n",
    "\n",
    "Where we can say that $C = C(x,y,t)$ is the pollutant concentration at a specified time and space, and $\\kappa$ is a diffusion constant. Working from left to right, each term represents accumulation, diffusion in $x, y$ down-gradient from high to low concentrations respectively. \n",
    "\n",
    "\n",
    "\n",
    "#### Discretization of the Continuity Equation: \n",
    "\n",
    "\n",
    "We can discretize the problem in a simple forward time centered space (FTCS) scheme as follows:\n",
    "\n",
    "\n",
    "$$ \\frac{T_{i, j}^{n+1}-T_{i, j}^{n}}{\\Delta t}=\\kappa \\frac{T_{i-1, j}^{n}-2 T_{i, j}^{n}+T_{i+1, j}^{n}}{\\Delta x^{2}}+\\kappa \\frac{T_{i, j-1}^{n}-2 T_{i, j}^{n}+T_{i, j+1}^{n}}{\\Delta y^{2}} + Q^{n}_{i,j}$$  \n",
    "\n",
    "Which has accuracy on the order of: $\\mathcal{O}\\left(\\Delta t,(\\Delta x)^{2},(\\Delta y)^{2}\\right)$\n",
    "\n",
    "Rearranging to solve for $T_{i,j}^{n+1}$ explicitly.:  \n",
    "$$ T_{i, j}^{n+1}=T_{i, j}^{n}+\\Delta t \\left( \\kappa \\frac{T_{i-1, j}^{n}-2 T_{i, j}^{n}+T_{i+1, j}^{n}}{\\Delta x^{2}}+\\kappa \\frac{T_{i, j-1}^{n}-2 T_{i, j}^{n}+T_{i, j+1}^{n}}{\\Delta y^{2}} + Q^{n}_{i,j}\\right) $$\n",
    "\n",
    "With the general unstability of the FTCS method in mind, implement an upwind scheme such as the Crank Nicholson scheme or a Duport-Frankl scheme.\n"
   ]
  },
  {
   "cell_type": "code",
   "execution_count": null,
   "id": "d11cdb07",
   "metadata": {},
   "outputs": [],
   "source": []
  },
  {
   "cell_type": "code",
   "execution_count": null,
   "id": "2bcacb46",
   "metadata": {},
   "outputs": [],
   "source": []
  },
  {
   "cell_type": "code",
   "execution_count": null,
   "id": "92da85e5",
   "metadata": {},
   "outputs": [],
   "source": []
  },
  {
   "cell_type": "code",
   "execution_count": null,
   "id": "987b0d29",
   "metadata": {},
   "outputs": [],
   "source": [
    "}\"|} A¸"
   ]
  }
 ],
 "metadata": {
  "kernelspec": {
   "display_name": "Python 3 (ipykernel)",
   "language": "python",
   "name": "python3"
  },
  "language_info": {
   "codemirror_mode": {
    "name": "ipython",
    "version": 3
   },
   "file_extension": ".py",
   "mimetype": "text/x-python",
   "name": "python",
   "nbconvert_exporter": "python",
   "pygments_lexer": "ipython3",
   "version": "3.8.12"
  }
 },
 "nbformat": 4,
 "nbformat_minor": 5
}
