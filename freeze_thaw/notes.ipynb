{
 "cells": [
  {
   "cell_type": "markdown",
   "id": "5710d8a8",
   "metadata": {},
   "source": [
    "# Sorted Circles\n",
    "For EOSC 514, 2022"
   ]
  },
  {
   "cell_type": "markdown",
   "id": "0fd40b8d",
   "metadata": {},
   "source": [
    "## Introduction\n",
    "### Derivation of the Problem: \n",
    "We can start from a 3-D convection-diffusion equation that includes a source term:\n",
    "\n",
    "\n",
    "$$ \\frac{\\partial T}{\\partial t}=\\kappa \\left(\\frac{\\partial^{2} T}{\\partial x^{2}}+\\frac{\\partial^{2} T}{\\partial y^{2}}+\\frac{\\partial^{2} T}{\\partial z^{2}}\\right) + Q(x,y,z,t) $$  \n",
    "\n",
    "\n",
    "#### Discretization of the Continuity Equation: \n",
    "\n",
    "We can discretize the problem in a simple forward time centered space (FTCS) scheme as follows:\n",
    "\n",
    "$$ \\frac{T_{i, j, k}^{n+1}-T_{i, j, k}^{n}}{\\Delta t}=\\kappa \\frac{T_{i-1, j, k}^{n}-2 T_{i, j, k}^{n}+T_{i+1, j, k}^{n}}{\\Delta x^{2}}+\\kappa \\frac{T_{i, j-1, k}^{n}-2 T_{i, j, k}^{n}+T_{i, j+1, k}^{n}}{\\Delta y^{2}} + \\kappa \\frac{T_{i, j, k-1}^{n}-2 T_{i, j, k}^{n}+T_{i, j, k=1}^{n}}{\\Delta z^{2}} + Q^{n}_{i,j, k}$$  \n",
    "\n",
    "Which has accuracy on the order of: $\\mathcal{O}\\left(\\Delta t,(\\Delta x)^{2},(\\Delta y)^{2}\\right)$\n",
    "\n",
    "Rearranging to solve for $T_{i,j}^{n+1}$ explicitly.:  \n",
    "$$ T_{i, j, k}^{n+1}=T_{i, j, k}^{n}+ \\kappa \\Delta t \\left( \\frac{T_{i-1, j, k}^{n}-2 T_{i, j, k}^{n}+T_{i+1, j, k}^{n}}{\\Delta x^{2}}+\\frac{T_{i, j-1, k}^{n}-2 T_{i, j, k}^{n}+T_{i, j+1, k}^{n}}{\\Delta y^{2}}+\\frac{T_{i, j, k-1}^{n}-2 T_{i, j, k}^{n}+T_{i, j, k+1}^{n}}{\\Delta z^{2}}\\right)  + Q^{n}_{i,j, k}$$\n",
    "\n",
    "With the general unstability of the FTCS method in mind, implement an upwind scheme such as the Crank Nicholson scheme or a Duport-Frankl scheme.\n",
    "\n",
    "For a spatial step $h$ the FTCS scheme is stable when:  \n",
    "$$\\Delta t \\leqslant \\frac{h^{2}}{8 \\kappa}$$\n",
    "\n",
    "To ensure converge we can force a minimum timestep of:\n",
    "$$\\Delta t=\\frac{1}{8 \\kappa} \\min \\left(\\Delta x, \\Delta y, \\Delta z\\right)^{2}$$"
   ]
  },
  {
   "cell_type": "code",
   "execution_count": null,
   "id": "d11cdb07",
   "metadata": {},
   "outputs": [],
   "source": []
  },
  {
   "cell_type": "code",
   "execution_count": null,
   "id": "2bcacb46",
   "metadata": {},
   "outputs": [],
   "source": []
  },
  {
   "cell_type": "code",
   "execution_count": null,
   "id": "987b0d29",
   "metadata": {},
   "outputs": [],
   "source": []
  }
 ],
 "metadata": {
  "kernelspec": {
   "display_name": "Python 3 (ipykernel)",
   "language": "python",
   "name": "python3"
  },
  "language_info": {
   "codemirror_mode": {
    "name": "ipython",
    "version": 3
   },
   "file_extension": ".py",
   "mimetype": "text/x-python",
   "name": "python",
   "nbconvert_exporter": "python",
   "pygments_lexer": "ipython3",
   "version": "3.8.10"
  }
 },
 "nbformat": 4,
 "nbformat_minor": 5
}
